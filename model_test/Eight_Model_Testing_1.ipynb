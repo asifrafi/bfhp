{
 "cells": [
  {
   "cell_type": "code",
   "execution_count": 68,
   "id": "b37f1145",
   "metadata": {},
   "outputs": [],
   "source": [
    "# Regular EDA and plotting libraries\n",
    "import numpy as np # np is short for numpy\n",
    "import pandas as pd # pandas is so commonly used, it's shortened to pd\n",
    "import matplotlib.pyplot as plt\n",
    "import seaborn as sns # seaborn gets shortened to sns\n",
    "\n",
    "# We want our plots to appear in the notebook\n",
    "%matplotlib inline \n",
    "\n",
    "## Models\n",
    "from sklearn.linear_model import LogisticRegression\n",
    "from sklearn.svm import SVC\n",
    "from sklearn.naive_bayes import GaussianNB\n",
    "from sklearn.naive_bayes import MultinomialNB\n",
    "from sklearn.linear_model import SGDClassifier\n",
    "from sklearn.neighbors import KNeighborsClassifier\n",
    "from sklearn.tree import DecisionTreeClassifier\n",
    "from sklearn.ensemble import RandomForestClassifier\n",
    "from sklearn.ensemble import GradientBoostingClassifier\n",
    "from sklearn.model_selection import cross_validate\n",
    "from sklearn.ensemble import AdaBoostClassifier\n",
    "## Model evaluators\n",
    "from sklearn.model_selection import train_test_split, cross_val_score\n",
    "from sklearn.model_selection import RandomizedSearchCV, GridSearchCV\n",
    "from sklearn.metrics import confusion_matrix, classification_report\n",
    "from sklearn.metrics import precision_score, recall_score, f1_score"
   ]
  },
  {
   "cell_type": "code",
   "execution_count": 69,
   "id": "f6a39c70",
   "metadata": {},
   "outputs": [
    {
     "data": {
      "text/html": [
       "<div>\n",
       "<style scoped>\n",
       "    .dataframe tbody tr th:only-of-type {\n",
       "        vertical-align: middle;\n",
       "    }\n",
       "\n",
       "    .dataframe tbody tr th {\n",
       "        vertical-align: top;\n",
       "    }\n",
       "\n",
       "    .dataframe thead th {\n",
       "        text-align: right;\n",
       "    }\n",
       "</style>\n",
       "<table border=\"1\" class=\"dataframe\">\n",
       "  <thead>\n",
       "    <tr style=\"text-align: right;\">\n",
       "      <th></th>\n",
       "      <th>Name</th>\n",
       "      <th>servings</th>\n",
       "      <th>dairy_product</th>\n",
       "      <th>salt</th>\n",
       "      <th>potato</th>\n",
       "      <th>vegetables</th>\n",
       "      <th>sugar</th>\n",
       "      <th>chicken</th>\n",
       "      <th>oil</th>\n",
       "      <th>beef</th>\n",
       "      <th>fruits</th>\n",
       "      <th>egg</th>\n",
       "      <th>mutton</th>\n",
       "      <th>rice</th>\n",
       "      <th>carbs</th>\n",
       "      <th>fish</th>\n",
       "      <th>dried_fish</th>\n",
       "      <th>healthy</th>\n",
       "    </tr>\n",
       "  </thead>\n",
       "  <tbody>\n",
       "    <tr>\n",
       "      <th>0</th>\n",
       "      <td>Alu Bharta</td>\n",
       "      <td>4</td>\n",
       "      <td>0.0</td>\n",
       "      <td>4.0</td>\n",
       "      <td>250</td>\n",
       "      <td>0.0</td>\n",
       "      <td>0.0</td>\n",
       "      <td>0.0</td>\n",
       "      <td>8.0</td>\n",
       "      <td>0.0</td>\n",
       "      <td>0.0</td>\n",
       "      <td>0</td>\n",
       "      <td>0</td>\n",
       "      <td>0</td>\n",
       "      <td>0</td>\n",
       "      <td>0</td>\n",
       "      <td>0</td>\n",
       "      <td>1</td>\n",
       "    </tr>\n",
       "    <tr>\n",
       "      <th>1</th>\n",
       "      <td>Alu Bharta</td>\n",
       "      <td>2</td>\n",
       "      <td>0.0</td>\n",
       "      <td>2.0</td>\n",
       "      <td>150</td>\n",
       "      <td>0.0</td>\n",
       "      <td>0.0</td>\n",
       "      <td>0.0</td>\n",
       "      <td>5.0</td>\n",
       "      <td>0.0</td>\n",
       "      <td>0.0</td>\n",
       "      <td>0</td>\n",
       "      <td>0</td>\n",
       "      <td>0</td>\n",
       "      <td>0</td>\n",
       "      <td>0</td>\n",
       "      <td>0</td>\n",
       "      <td>1</td>\n",
       "    </tr>\n",
       "    <tr>\n",
       "      <th>2</th>\n",
       "      <td>Alu Bharta</td>\n",
       "      <td>2</td>\n",
       "      <td>5.0</td>\n",
       "      <td>2.0</td>\n",
       "      <td>150</td>\n",
       "      <td>0.0</td>\n",
       "      <td>0.0</td>\n",
       "      <td>0.0</td>\n",
       "      <td>0.0</td>\n",
       "      <td>0.0</td>\n",
       "      <td>0.0</td>\n",
       "      <td>0</td>\n",
       "      <td>0</td>\n",
       "      <td>0</td>\n",
       "      <td>0</td>\n",
       "      <td>0</td>\n",
       "      <td>0</td>\n",
       "      <td>1</td>\n",
       "    </tr>\n",
       "    <tr>\n",
       "      <th>3</th>\n",
       "      <td>Alu Bharta</td>\n",
       "      <td>2</td>\n",
       "      <td>0.0</td>\n",
       "      <td>4.0</td>\n",
       "      <td>250</td>\n",
       "      <td>0.0</td>\n",
       "      <td>0.0</td>\n",
       "      <td>0.0</td>\n",
       "      <td>5.0</td>\n",
       "      <td>0.0</td>\n",
       "      <td>0.0</td>\n",
       "      <td>0</td>\n",
       "      <td>0</td>\n",
       "      <td>0</td>\n",
       "      <td>0</td>\n",
       "      <td>0</td>\n",
       "      <td>0</td>\n",
       "      <td>0</td>\n",
       "    </tr>\n",
       "    <tr>\n",
       "      <th>4</th>\n",
       "      <td>Alu Bharta</td>\n",
       "      <td>2</td>\n",
       "      <td>5.0</td>\n",
       "      <td>4.0</td>\n",
       "      <td>250</td>\n",
       "      <td>0.0</td>\n",
       "      <td>0.0</td>\n",
       "      <td>0.0</td>\n",
       "      <td>0.0</td>\n",
       "      <td>0.0</td>\n",
       "      <td>0.0</td>\n",
       "      <td>0</td>\n",
       "      <td>0</td>\n",
       "      <td>0</td>\n",
       "      <td>0</td>\n",
       "      <td>0</td>\n",
       "      <td>0</td>\n",
       "      <td>0</td>\n",
       "    </tr>\n",
       "  </tbody>\n",
       "</table>\n",
       "</div>"
      ],
      "text/plain": [
       "         Name  servings  dairy_product  salt  potato  vegetables  sugar  \\\n",
       "0  Alu Bharta         4            0.0   4.0     250         0.0    0.0   \n",
       "1  Alu Bharta         2            0.0   2.0     150         0.0    0.0   \n",
       "2  Alu Bharta         2            5.0   2.0     150         0.0    0.0   \n",
       "3  Alu Bharta         2            0.0   4.0     250         0.0    0.0   \n",
       "4  Alu Bharta         2            5.0   4.0     250         0.0    0.0   \n",
       "\n",
       "   chicken  oil  beef  fruits  egg  mutton  rice  carbs  fish  dried_fish  \\\n",
       "0      0.0  8.0   0.0     0.0    0       0     0      0     0           0   \n",
       "1      0.0  5.0   0.0     0.0    0       0     0      0     0           0   \n",
       "2      0.0  0.0   0.0     0.0    0       0     0      0     0           0   \n",
       "3      0.0  5.0   0.0     0.0    0       0     0      0     0           0   \n",
       "4      0.0  0.0   0.0     0.0    0       0     0      0     0           0   \n",
       "\n",
       "   healthy  \n",
       "0        1  \n",
       "1        1  \n",
       "2        1  \n",
       "3        0  \n",
       "4        0  "
      ]
     },
     "execution_count": 69,
     "metadata": {},
     "output_type": "execute_result"
    }
   ],
   "source": [
    "DATASET_COLUMNS = [\"Name\",\"servings\",\"dairy_product\",\"salt\",\"potato\",\"vegetables\",\"sugar\",\"chicken\",\"oil\",\"beef\",\"fruits\",\"egg\",\"mutton\",\"rice\",\"carbs\",\"fish\",\"dried_fish\",\"healthy\"\n",
    "]\n",
    "DATASET_ENCODING = \"ISO-8859-1\"\n",
    "df = pd.read_csv('data.csv', encoding=DATASET_ENCODING, names=DATASET_COLUMNS)\n",
    "df.head()"
   ]
  },
  {
   "cell_type": "code",
   "execution_count": 70,
   "id": "6d9bf978",
   "metadata": {},
   "outputs": [
    {
     "name": "stdout",
     "output_type": "stream",
     "text": [
      "<class 'pandas.core.frame.DataFrame'>\n",
      "RangeIndex: 315 entries, 0 to 314\n",
      "Data columns (total 17 columns):\n",
      " #   Column         Non-Null Count  Dtype  \n",
      "---  ------         --------------  -----  \n",
      " 0   servings       315 non-null    int64  \n",
      " 1   dairy_product  315 non-null    float64\n",
      " 2   salt           315 non-null    float64\n",
      " 3   potato         315 non-null    int64  \n",
      " 4   vegetables     313 non-null    float64\n",
      " 5   sugar          315 non-null    float64\n",
      " 6   chicken        314 non-null    float64\n",
      " 7   oil            315 non-null    float64\n",
      " 8   beef           314 non-null    float64\n",
      " 9   fruits         315 non-null    float64\n",
      " 10  egg            315 non-null    int64  \n",
      " 11  mutton         315 non-null    int64  \n",
      " 12  rice           315 non-null    int64  \n",
      " 13  carbs          315 non-null    int64  \n",
      " 14  fish           315 non-null    int64  \n",
      " 15  dried_fish     315 non-null    int64  \n",
      " 16  healthy        315 non-null    int64  \n",
      "dtypes: float64(8), int64(9)\n",
      "memory usage: 42.0 KB\n"
     ]
    }
   ],
   "source": [
    "df.drop([\"Name\"], axis = 1, inplace = True)\n",
    "df.info()"
   ]
  },
  {
   "cell_type": "code",
   "execution_count": 71,
   "id": "500d9a03",
   "metadata": {},
   "outputs": [],
   "source": [
    "df.fillna(0, inplace=True)"
   ]
  },
  {
   "cell_type": "code",
   "execution_count": 72,
   "id": "08ed4a11",
   "metadata": {},
   "outputs": [
    {
     "data": {
      "text/plain": [
       "False"
      ]
     },
     "execution_count": 72,
     "metadata": {},
     "output_type": "execute_result"
    }
   ],
   "source": [
    "df.isnull().values.any()"
   ]
  },
  {
   "cell_type": "code",
   "execution_count": 73,
   "id": "1e69fe7c",
   "metadata": {},
   "outputs": [
    {
     "data": {
      "text/plain": [
       "'\\nfor column in df.columns:\\n    df[column] = (df[column] - df[column].min()) / (df[column].max() - df[column].min())\\nprint(df)\\n'"
      ]
     },
     "execution_count": 73,
     "metadata": {},
     "output_type": "execute_result"
    }
   ],
   "source": [
    "'''\n",
    "for column in df.columns:\n",
    "    df[column] = (df[column] - df[column].min()) / (df[column].max() - df[column].min())\n",
    "print(df)\n",
    "'''"
   ]
  },
  {
   "cell_type": "code",
   "execution_count": 74,
   "id": "79bb248d",
   "metadata": {},
   "outputs": [],
   "source": [
    "# Everything except target variable\n",
    "X = df.drop(\"healthy\", axis=1)\n",
    "\n",
    "# Target variable\n",
    "y = df.healthy.values"
   ]
  },
  {
   "cell_type": "code",
   "execution_count": 75,
   "id": "25263da9",
   "metadata": {},
   "outputs": [],
   "source": [
    "#test"
   ]
  },
  {
   "cell_type": "code",
   "execution_count": 76,
   "id": "00ebbd06",
   "metadata": {},
   "outputs": [],
   "source": [
    "# Random seed for reproducibility\n",
    "np.random.seed(42)\n",
    "\n",
    "# Split into train & test set\n",
    "X_train, X_test, y_train, y_test = train_test_split(X, # independent variables \n",
    "                                                    y, # dependent variable\n",
    "                                                    test_size = 0.2) # percentage of data to use for test set"
   ]
  },
  {
   "cell_type": "code",
   "execution_count": 77,
   "id": "2d7b0f40",
   "metadata": {},
   "outputs": [
    {
     "data": {
      "text/html": [
       "<div>\n",
       "<style scoped>\n",
       "    .dataframe tbody tr th:only-of-type {\n",
       "        vertical-align: middle;\n",
       "    }\n",
       "\n",
       "    .dataframe tbody tr th {\n",
       "        vertical-align: top;\n",
       "    }\n",
       "\n",
       "    .dataframe thead th {\n",
       "        text-align: right;\n",
       "    }\n",
       "</style>\n",
       "<table border=\"1\" class=\"dataframe\">\n",
       "  <thead>\n",
       "    <tr style=\"text-align: right;\">\n",
       "      <th></th>\n",
       "      <th>servings</th>\n",
       "      <th>dairy_product</th>\n",
       "      <th>salt</th>\n",
       "      <th>potato</th>\n",
       "      <th>vegetables</th>\n",
       "      <th>sugar</th>\n",
       "      <th>chicken</th>\n",
       "      <th>oil</th>\n",
       "      <th>beef</th>\n",
       "      <th>fruits</th>\n",
       "      <th>egg</th>\n",
       "      <th>mutton</th>\n",
       "      <th>rice</th>\n",
       "      <th>carbs</th>\n",
       "      <th>fish</th>\n",
       "      <th>dried_fish</th>\n",
       "    </tr>\n",
       "  </thead>\n",
       "  <tbody>\n",
       "    <tr>\n",
       "      <th>206</th>\n",
       "      <td>2</td>\n",
       "      <td>250.0</td>\n",
       "      <td>0.0</td>\n",
       "      <td>0</td>\n",
       "      <td>0.0</td>\n",
       "      <td>0.0</td>\n",
       "      <td>0.0</td>\n",
       "      <td>5.0</td>\n",
       "      <td>0.0</td>\n",
       "      <td>0.0</td>\n",
       "      <td>0</td>\n",
       "      <td>0</td>\n",
       "      <td>0</td>\n",
       "      <td>250</td>\n",
       "      <td>0</td>\n",
       "      <td>0</td>\n",
       "    </tr>\n",
       "    <tr>\n",
       "      <th>33</th>\n",
       "      <td>4</td>\n",
       "      <td>0.0</td>\n",
       "      <td>8.0</td>\n",
       "      <td>0</td>\n",
       "      <td>0.0</td>\n",
       "      <td>0.0</td>\n",
       "      <td>1000.0</td>\n",
       "      <td>100.0</td>\n",
       "      <td>0.0</td>\n",
       "      <td>0.0</td>\n",
       "      <td>0</td>\n",
       "      <td>0</td>\n",
       "      <td>0</td>\n",
       "      <td>0</td>\n",
       "      <td>0</td>\n",
       "      <td>0</td>\n",
       "    </tr>\n",
       "    <tr>\n",
       "      <th>163</th>\n",
       "      <td>2</td>\n",
       "      <td>0.0</td>\n",
       "      <td>3.0</td>\n",
       "      <td>0</td>\n",
       "      <td>45.0</td>\n",
       "      <td>0.0</td>\n",
       "      <td>0.0</td>\n",
       "      <td>0.0</td>\n",
       "      <td>0.0</td>\n",
       "      <td>50.0</td>\n",
       "      <td>0</td>\n",
       "      <td>0</td>\n",
       "      <td>0</td>\n",
       "      <td>0</td>\n",
       "      <td>0</td>\n",
       "      <td>0</td>\n",
       "    </tr>\n",
       "    <tr>\n",
       "      <th>78</th>\n",
       "      <td>4</td>\n",
       "      <td>405.0</td>\n",
       "      <td>2.0</td>\n",
       "      <td>0</td>\n",
       "      <td>0.0</td>\n",
       "      <td>125.0</td>\n",
       "      <td>0.0</td>\n",
       "      <td>0.0</td>\n",
       "      <td>0.0</td>\n",
       "      <td>0.0</td>\n",
       "      <td>0</td>\n",
       "      <td>0</td>\n",
       "      <td>0</td>\n",
       "      <td>0</td>\n",
       "      <td>0</td>\n",
       "      <td>0</td>\n",
       "    </tr>\n",
       "    <tr>\n",
       "      <th>93</th>\n",
       "      <td>6</td>\n",
       "      <td>0.0</td>\n",
       "      <td>2.5</td>\n",
       "      <td>0</td>\n",
       "      <td>0.0</td>\n",
       "      <td>0.0</td>\n",
       "      <td>0.0</td>\n",
       "      <td>15.0</td>\n",
       "      <td>0.0</td>\n",
       "      <td>0.0</td>\n",
       "      <td>6</td>\n",
       "      <td>0</td>\n",
       "      <td>0</td>\n",
       "      <td>0</td>\n",
       "      <td>0</td>\n",
       "      <td>0</td>\n",
       "    </tr>\n",
       "  </tbody>\n",
       "</table>\n",
       "</div>"
      ],
      "text/plain": [
       "     servings  dairy_product  salt  potato  vegetables  sugar  chicken    oil  \\\n",
       "206         2          250.0   0.0       0         0.0    0.0      0.0    5.0   \n",
       "33          4            0.0   8.0       0         0.0    0.0   1000.0  100.0   \n",
       "163         2            0.0   3.0       0        45.0    0.0      0.0    0.0   \n",
       "78          4          405.0   2.0       0         0.0  125.0      0.0    0.0   \n",
       "93          6            0.0   2.5       0         0.0    0.0      0.0   15.0   \n",
       "\n",
       "     beef  fruits  egg  mutton  rice  carbs  fish  dried_fish  \n",
       "206   0.0     0.0    0       0     0    250     0           0  \n",
       "33    0.0     0.0    0       0     0      0     0           0  \n",
       "163   0.0    50.0    0       0     0      0     0           0  \n",
       "78    0.0     0.0    0       0     0      0     0           0  \n",
       "93    0.0     0.0    6       0     0      0     0           0  "
      ]
     },
     "execution_count": 77,
     "metadata": {},
     "output_type": "execute_result"
    }
   ],
   "source": [
    "X_test.head()"
   ]
  },
  {
   "cell_type": "code",
   "execution_count": 78,
   "id": "0f3ee259",
   "metadata": {},
   "outputs": [
    {
     "data": {
      "text/plain": [
       "(array([1, 1, 1, 0, 1, 1, 1, 1, 1, 0, 1, 0, 0, 1, 0, 1, 1, 0, 1, 0, 1, 0,\n",
       "        1, 1, 0, 0, 0, 0, 0, 1, 0, 0, 0, 1, 0, 1, 1, 0, 1, 1, 1, 1, 0, 0,\n",
       "        1, 0, 0, 0, 1, 1, 1, 0, 1, 1, 1, 0, 0, 1, 1, 0, 0, 1, 0],\n",
       "       dtype=int64),\n",
       " 63)"
      ]
     },
     "execution_count": 78,
     "metadata": {},
     "output_type": "execute_result"
    }
   ],
   "source": [
    "y_test, len(y_test)"
   ]
  },
  {
   "cell_type": "code",
   "execution_count": 79,
   "id": "adf42be3",
   "metadata": {},
   "outputs": [
    {
     "data": {
      "text/html": [
       "<div>\n",
       "<style scoped>\n",
       "    .dataframe tbody tr th:only-of-type {\n",
       "        vertical-align: middle;\n",
       "    }\n",
       "\n",
       "    .dataframe tbody tr th {\n",
       "        vertical-align: top;\n",
       "    }\n",
       "\n",
       "    .dataframe thead th {\n",
       "        text-align: right;\n",
       "    }\n",
       "</style>\n",
       "<table border=\"1\" class=\"dataframe\">\n",
       "  <thead>\n",
       "    <tr style=\"text-align: right;\">\n",
       "      <th></th>\n",
       "      <th>servings</th>\n",
       "      <th>dairy_product</th>\n",
       "      <th>salt</th>\n",
       "      <th>potato</th>\n",
       "      <th>vegetables</th>\n",
       "      <th>sugar</th>\n",
       "      <th>chicken</th>\n",
       "      <th>oil</th>\n",
       "      <th>beef</th>\n",
       "      <th>fruits</th>\n",
       "      <th>egg</th>\n",
       "      <th>mutton</th>\n",
       "      <th>rice</th>\n",
       "      <th>carbs</th>\n",
       "      <th>fish</th>\n",
       "      <th>dried_fish</th>\n",
       "    </tr>\n",
       "  </thead>\n",
       "  <tbody>\n",
       "    <tr>\n",
       "      <th>221</th>\n",
       "      <td>4</td>\n",
       "      <td>250.0</td>\n",
       "      <td>2.1</td>\n",
       "      <td>0</td>\n",
       "      <td>200.0</td>\n",
       "      <td>2.1</td>\n",
       "      <td>0.0</td>\n",
       "      <td>8.4</td>\n",
       "      <td>0.0</td>\n",
       "      <td>0.0</td>\n",
       "      <td>0</td>\n",
       "      <td>0</td>\n",
       "      <td>0</td>\n",
       "      <td>0</td>\n",
       "      <td>0</td>\n",
       "      <td>0</td>\n",
       "    </tr>\n",
       "    <tr>\n",
       "      <th>132</th>\n",
       "      <td>1</td>\n",
       "      <td>0.0</td>\n",
       "      <td>4.0</td>\n",
       "      <td>0</td>\n",
       "      <td>0.0</td>\n",
       "      <td>0.0</td>\n",
       "      <td>0.0</td>\n",
       "      <td>100.0</td>\n",
       "      <td>0.0</td>\n",
       "      <td>0.0</td>\n",
       "      <td>0</td>\n",
       "      <td>0</td>\n",
       "      <td>0</td>\n",
       "      <td>65</td>\n",
       "      <td>0</td>\n",
       "      <td>0</td>\n",
       "    </tr>\n",
       "    <tr>\n",
       "      <th>155</th>\n",
       "      <td>1</td>\n",
       "      <td>100.0</td>\n",
       "      <td>0.0</td>\n",
       "      <td>0</td>\n",
       "      <td>0.0</td>\n",
       "      <td>0.0</td>\n",
       "      <td>0.0</td>\n",
       "      <td>0.0</td>\n",
       "      <td>0.0</td>\n",
       "      <td>0.0</td>\n",
       "      <td>0</td>\n",
       "      <td>0</td>\n",
       "      <td>0</td>\n",
       "      <td>50</td>\n",
       "      <td>0</td>\n",
       "      <td>0</td>\n",
       "    </tr>\n",
       "    <tr>\n",
       "      <th>94</th>\n",
       "      <td>5</td>\n",
       "      <td>0.0</td>\n",
       "      <td>4.5</td>\n",
       "      <td>0</td>\n",
       "      <td>0.0</td>\n",
       "      <td>0.0</td>\n",
       "      <td>0.0</td>\n",
       "      <td>50.0</td>\n",
       "      <td>0.0</td>\n",
       "      <td>0.0</td>\n",
       "      <td>0</td>\n",
       "      <td>0</td>\n",
       "      <td>0</td>\n",
       "      <td>0</td>\n",
       "      <td>0</td>\n",
       "      <td>0</td>\n",
       "    </tr>\n",
       "    <tr>\n",
       "      <th>245</th>\n",
       "      <td>1</td>\n",
       "      <td>530.0</td>\n",
       "      <td>0.0</td>\n",
       "      <td>0</td>\n",
       "      <td>0.0</td>\n",
       "      <td>25.0</td>\n",
       "      <td>0.0</td>\n",
       "      <td>0.0</td>\n",
       "      <td>0.0</td>\n",
       "      <td>0.0</td>\n",
       "      <td>0</td>\n",
       "      <td>0</td>\n",
       "      <td>0</td>\n",
       "      <td>0</td>\n",
       "      <td>0</td>\n",
       "      <td>0</td>\n",
       "    </tr>\n",
       "  </tbody>\n",
       "</table>\n",
       "</div>"
      ],
      "text/plain": [
       "     servings  dairy_product  salt  potato  vegetables  sugar  chicken    oil  \\\n",
       "221         4          250.0   2.1       0       200.0    2.1      0.0    8.4   \n",
       "132         1            0.0   4.0       0         0.0    0.0      0.0  100.0   \n",
       "155         1          100.0   0.0       0         0.0    0.0      0.0    0.0   \n",
       "94          5            0.0   4.5       0         0.0    0.0      0.0   50.0   \n",
       "245         1          530.0   0.0       0         0.0   25.0      0.0    0.0   \n",
       "\n",
       "     beef  fruits  egg  mutton  rice  carbs  fish  dried_fish  \n",
       "221   0.0     0.0    0       0     0      0     0           0  \n",
       "132   0.0     0.0    0       0     0     65     0           0  \n",
       "155   0.0     0.0    0       0     0     50     0           0  \n",
       "94    0.0     0.0    0       0     0      0     0           0  \n",
       "245   0.0     0.0    0       0     0      0     0           0  "
      ]
     },
     "execution_count": 79,
     "metadata": {},
     "output_type": "execute_result"
    }
   ],
   "source": [
    "X_train.head()"
   ]
  },
  {
   "cell_type": "code",
   "execution_count": 80,
   "id": "f40f04e9",
   "metadata": {},
   "outputs": [
    {
     "data": {
      "text/plain": [
       "(array([0, 0, 0, 1, 1, 1, 0, 1, 1, 0, 1, 1, 1, 0, 0, 1, 1, 1, 0, 1, 1, 0,\n",
       "        0, 0, 0, 1, 1, 0, 1, 1, 1, 1, 0, 0, 1, 1, 1, 0, 1, 0, 1, 1, 0, 0,\n",
       "        1, 1, 0, 1, 1, 1, 1, 0, 1, 0, 1, 0, 0, 1, 0, 1, 1, 0, 1, 0, 1, 0,\n",
       "        1, 0, 1, 1, 0, 1, 1, 0, 1, 1, 0, 0, 0, 1, 1, 1, 0, 1, 0, 1, 0, 0,\n",
       "        1, 1, 1, 1, 1, 1, 1, 0, 1, 0, 0, 1, 0, 0, 1, 1, 0, 1, 0, 0, 1, 1,\n",
       "        1, 1, 1, 1, 1, 1, 0, 1, 0, 1, 1, 0, 1, 0, 1, 1, 1, 1, 0, 1, 1, 1,\n",
       "        1, 1, 1, 1, 1, 0, 1, 0, 1, 1, 1, 1, 0, 1, 1, 0, 1, 1, 0, 0, 0, 1,\n",
       "        0, 0, 0, 0, 1, 1, 1, 1, 0, 1, 1, 1, 0, 1, 1, 1, 0, 1, 1, 0, 0, 0,\n",
       "        1, 0, 0, 1, 0, 1, 1, 1, 0, 0, 0, 1, 0, 1, 1, 1, 1, 1, 0, 0, 0, 0,\n",
       "        1, 1, 1, 1, 0, 1, 0, 0, 1, 0, 1, 1, 1, 1, 0, 1, 1, 1, 0, 1, 0, 1,\n",
       "        1, 1, 0, 1, 1, 0, 0, 1, 0, 0, 0, 1, 1, 0, 1, 0, 0, 0, 1, 0, 1, 1,\n",
       "        1, 1, 1, 0, 1, 1, 0, 1, 1, 0], dtype=int64),\n",
       " 252)"
      ]
     },
     "execution_count": 80,
     "metadata": {},
     "output_type": "execute_result"
    }
   ],
   "source": [
    "y_train, len(y_train)"
   ]
  },
  {
   "cell_type": "code",
   "execution_count": 82,
   "id": "09ece0f0",
   "metadata": {},
   "outputs": [],
   "source": [
    "# Put models in a dictionary\n",
    "models = {\"KNN\": KNeighborsClassifier(),\n",
    "          \"Logistic Regression\": LogisticRegression(), \n",
    "          \"Random Forest\": RandomForestClassifier(),\n",
    "          \"SVC\": SVC(),\n",
    "          \"Gaussian NB\": GaussianNB(),\n",
    "          \"Multinomial NB\": MultinomialNB(),\n",
    "          \"SGD Classifier\": SGDClassifier(),\n",
    "          \"Decision Tree Classifier\": DecisionTreeClassifier(),\n",
    "          \"Gradient Boosting Classifier\": GradientBoostingClassifier(),\n",
    "          \"AdaBoost Classifier\": AdaBoostClassifier()}\n",
    "\n",
    "from sklearn.exceptions import ConvergenceWarning\n",
    "import warnings\n",
    "\n",
    "# Create function to fit and score models\n",
    "def fit_and_score(models, X_train, X_test, y_train, y_test):\n",
    "    \"\"\"\n",
    "    Fits and evaluates given machine learning models.\n",
    "    models : a dict of different Scikit-Learn machine learning models\n",
    "    X_train : training data\n",
    "    X_test : testing data\n",
    "    y_train : labels associated with training data\n",
    "    y_test : labels associated with test data\n",
    "    \"\"\"\n",
    "    # Random seed for reproducible results\n",
    "    np.random.seed(42)\n",
    "    # Make a dictionary to keep model scores\n",
    "    model_scores = {}\n",
    "    # Loop through models\n",
    "    for name, model in models.items():\n",
    "        # Suppress convergence warnings\n",
    "        with warnings.catch_warnings():\n",
    "            warnings.filterwarnings(\"ignore\", category=ConvergenceWarning)\n",
    "            # Fit the model to the data\n",
    "            model.fit(X_train, y_train)\n",
    "        # Evaluate the model and append its score to model_scores\n",
    "        model_scores[name] = model.score(X_test, y_test)\n",
    "    return model_scores"
   ]
  },
  {
   "cell_type": "code",
   "execution_count": 83,
   "id": "d674a81d",
   "metadata": {},
   "outputs": [
    {
     "data": {
      "text/plain": [
       "{'KNN': 0.6984126984126984,\n",
       " 'Logistic Regression': 0.6984126984126984,\n",
       " 'Random Forest': 0.7619047619047619,\n",
       " 'SVC': 0.6984126984126984,\n",
       " 'Gaussian NB': 0.6825396825396826,\n",
       " 'Multinomial NB': 0.6031746031746031,\n",
       " 'SGD Classifier': 0.5396825396825397,\n",
       " 'Decision Tree Classifier': 0.7619047619047619,\n",
       " 'Gradient Boosting Classifier': 0.7777777777777778,\n",
       " 'AdaBoost Classifier': 0.746031746031746}"
      ]
     },
     "execution_count": 83,
     "metadata": {},
     "output_type": "execute_result"
    }
   ],
   "source": [
    "model_scores = fit_and_score(models=models,\n",
    "                             X_train=X_train,\n",
    "                             X_test=X_test,\n",
    "                             y_train=y_train,\n",
    "                             y_test=y_test)\n",
    "model_scores"
   ]
  },
  {
   "cell_type": "code",
   "execution_count": 84,
   "id": "76816256",
   "metadata": {},
   "outputs": [
    {
     "data": {
      "image/png": "[encoded data removed]",
      "text/plain": [
       "<Figure size 640x480 with 1 Axes>"
      ]
     },
     "metadata": {},
     "output_type": "display_data"
    }
   ],
   "source": [
    "model_compare = pd.DataFrame(model_scores, index=['accuracy'])\n",
    "model_compare.T.plot.bar();"
   ]
  },
  {
   "cell_type": "code",
   "execution_count": 85,
   "id": "3e06b10b",
   "metadata": {},
   "outputs": [
    {
     "name": "stdout",
     "output_type": "stream",
     "text": [
      "                          Model  Accuracy  Precision    Recall  F1 Score\n",
      "0                           KNN  0.628571   0.651846  0.806543  0.719610\n",
      "1           Logistic Regression  0.746032   0.770636  0.822333  0.793406\n",
      "2                 Random Forest  0.765079   0.775530  0.865718  0.812725\n",
      "3                           SVC  0.688889   0.711025  0.822760  0.760390\n",
      "4                   Gaussian NB  0.723810   0.756562  0.796159  0.774359\n",
      "5                Multinomial NB  0.625397   0.737578  0.570128  0.642533\n",
      "6                SGD Classifier  0.603175   0.714306  0.543670  0.616137\n",
      "7      Decision Tree Classifier  0.711111   0.774512  0.737411  0.743178\n",
      "8  Gradient Boosting Classifier  0.752381   0.773921  0.855050  0.804287\n",
      "9           AdaBoost Classifier  0.730159   0.752864  0.844239  0.789827\n"
     ]
    }
   ],
   "source": [
    "models = {\"KNN\": KNeighborsClassifier(),\n",
    "          \"Logistic Regression\": LogisticRegression(), \n",
    "          \"Random Forest\": RandomForestClassifier(),\n",
    "          \"SVC\": SVC(),\n",
    "          \"Gaussian NB\": GaussianNB(),\n",
    "          \"Multinomial NB\": MultinomialNB(),\n",
    "          \"SGD Classifier\": SGDClassifier(),\n",
    "          \"Decision Tree Classifier\": DecisionTreeClassifier(),\n",
    "          \"Gradient Boosting Classifier\": GradientBoostingClassifier(),\n",
    "          \"AdaBoost Classifier\": AdaBoostClassifier() }\n",
    "\n",
    "#Dictionary to store model evaluation metrics\n",
    "model_metrics = {'Model': [], 'Accuracy': [], 'Precision': [], 'Recall': [], 'F1 Score': []}\n",
    "# Perform cross-validation and calculate metrics for each model\n",
    "for model_name, model in models.items():\n",
    "    scoring = ['accuracy', 'precision', 'recall', 'f1']\n",
    "\n",
    "    with warnings.catch_warnings():\n",
    "        warnings.filterwarnings(\"ignore\", category=ConvergenceWarning)\n",
    "\n",
    "        scores = cross_validate(model, X, y, scoring=scoring, cv=5)  # 5-fold cross-validation\n",
    "\n",
    "        accuracy = scores['test_accuracy'].mean()\n",
    "        precision = scores['test_precision'].mean()\n",
    "        recall = scores['test_recall'].mean()\n",
    "        f1 = scores['test_f1'].mean()\n",
    "\n",
    "    # Store the metrics in the dictionary\n",
    "    model_metrics['Model'].append(model_name)\n",
    "    model_metrics['Accuracy'].append(accuracy)\n",
    "    model_metrics['Precision'].append(precision)\n",
    "    model_metrics['Recall'].append(recall)\n",
    "    model_metrics['F1 Score'].append(f1)\n",
    "\n",
    "# Create a DataFrame from the model metrics dictionary\n",
    "metrics_df = pd.DataFrame(model_metrics)\n",
    "\n",
    "# Display the metrics DataFrame\n",
    "print(metrics_df)"
   ]
  },
  {
   "cell_type": "code",
   "execution_count": 86,
   "id": "42cb065d",
   "metadata": {},
   "outputs": [
    {
     "name": "stdout",
     "output_type": "stream",
     "text": [
      "[1]\n"
     ]
    },
    {
     "name": "stderr",
     "output_type": "stream",
     "text": [
      "c:\\Users\\User\\AppData\\Local\\Programs\\Python\\Python311\\Lib\\site-packages\\sklearn\\base.py:439: UserWarning: X does not have valid feature names, but RandomForestClassifier was fitted with feature names\n",
      "  warnings.warn(\n"
     ]
    }
   ],
   "source": [
    "rand_model = RandomForestClassifier()\n",
    "\n",
    "rand_model.fit(X_train, y_train)\n",
    "\n",
    "res_rand = rand_model.predict([[4,50,7.5,0,8,0,0,0,450,0,1,0,0,0,0,0]])\n",
    "\n",
    "print(res_rand)"
   ]
  },
  {
   "cell_type": "code",
   "execution_count": 87,
   "id": "1516bb38",
   "metadata": {},
   "outputs": [
    {
     "name": "stdout",
     "output_type": "stream",
     "text": [
      "[0]\n"
     ]
    },
    {
     "name": "stderr",
     "output_type": "stream",
     "text": [
      "c:\\Users\\User\\AppData\\Local\\Programs\\Python\\Python311\\Lib\\site-packages\\sklearn\\base.py:439: UserWarning: X does not have valid feature names, but GradientBoostingClassifier was fitted with feature names\n",
      "  warnings.warn(\n"
     ]
    }
   ],
   "source": [
    "grad_model = GradientBoostingClassifier()\n",
    "\n",
    "grad_model.fit(X_train, y_train)\n",
    "\n",
    "res_grand = grad_model.predict([[4,150,7.5,0,8,0,0,0,450,0,1,0,0,0,0,0]])\n",
    "\n",
    "print(res_grand)"
   ]
  },
  {
   "cell_type": "code",
   "execution_count": 88,
   "id": "b332e0fb",
   "metadata": {},
   "outputs": [
    {
     "name": "stdout",
     "output_type": "stream",
     "text": [
      "AdaBoost Classifier Score: 0.746031746031746\n"
     ]
    }
   ],
   "source": [
    "# Train and evaluate AdaBoostClassifier\n",
    "adaboost = AdaBoostClassifier()\n",
    "adaboost.fit(X_train, y_train)\n",
    "adaboost_score = adaboost.score(X_test, y_test)\n",
    "print(\"AdaBoost Classifier Score:\", adaboost_score)"
   ]
  },
  {
   "cell_type": "code",
   "execution_count": null,
   "id": "07afe303",
   "metadata": {},
   "outputs": [],
   "source": []
  }
 ],
 "metadata": {
  "kernelspec": {
   "display_name": "Python 3 (ipykernel)",
   "language": "python",
   "name": "python3"
  },
  "language_info": {
   "codemirror_mode": {
    "name": "ipython",
    "version": 3
   },
   "file_extension": ".py",
   "mimetype": "text/x-python",
   "name": "python",
   "nbconvert_exporter": "python",
   "pygments_lexer": "ipython3",
   "version": "3.11.2"
  }
 },
 "nbformat": 4,
 "nbformat_minor": 5
}
